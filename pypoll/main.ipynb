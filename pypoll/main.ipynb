{
 "cells": [
  {
   "cell_type": "code",
   "execution_count": 6,
   "id": "49412872",
   "metadata": {},
   "outputs": [
    {
     "name": "stdout",
     "output_type": "stream",
     "text": [
      "['Ballot ID', 'County', 'Candidate']\n"
     ]
    }
   ],
   "source": [
    "#Import dependency\n",
    "import csv\n",
    "\n",
    "#Name csv dataset\n",
    "election = (\"Resources/election_data.csv\") \n",
    "\n",
    "#Read csv file\n",
    "datalist=[]\n",
    "with open (election) as file: \n",
    "    csvreader=csv.reader(file, delimiter=\",\")\n",
    "\n",
    "#Skip header in counting\n",
    "    head = next(csvreader)\n",
    "\n",
    "    print(head)"
   ]
  },
  {
   "cell_type": "code",
   "execution_count": null,
   "id": "a4bac922",
   "metadata": {},
   "outputs": [],
   "source": []
  }
 ],
 "metadata": {
  "kernelspec": {
   "display_name": "Python 3 (ipykernel)",
   "language": "python",
   "name": "python3"
  },
  "language_info": {
   "codemirror_mode": {
    "name": "ipython",
    "version": 3
   },
   "file_extension": ".py",
   "mimetype": "text/x-python",
   "name": "python",
   "nbconvert_exporter": "python",
   "pygments_lexer": "ipython3",
   "version": "3.9.13"
  }
 },
 "nbformat": 4,
 "nbformat_minor": 5
}
