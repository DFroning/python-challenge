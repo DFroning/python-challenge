{
 "cells": [
  {
   "cell_type": "code",
   "execution_count": 5,
   "id": "632fdfe5",
   "metadata": {},
   "outputs": [],
   "source": [
    "#Import dependency\n",
    "import csv"
   ]
  },
  {
   "cell_type": "code",
   "execution_count": 6,
   "id": "a8df137c",
   "metadata": {},
   "outputs": [],
   "source": [
    "#Name csv dataset\n",
    "budget = (\"Resources/budget_data.csv\") "
   ]
  },
  {
   "cell_type": "code",
   "execution_count": 62,
   "id": "a3f2dac9",
   "metadata": {},
   "outputs": [
    {
     "name": "stdout",
     "output_type": "stream",
     "text": [
      "Financial Analysis\n",
      "-----------------------\n",
      "Total months: 86\n",
      "Total: $22564198.00\n",
      "Average Change: $-8311.11\n",
      "Greatest increase in profits:  Aug-16 ($1862002.00)\n",
      "Greatest decrease in profit: Feb-14 ($-1825558.00)\n"
     ]
    }
   ],
   "source": [
    "#Read csv file\n",
    "with open (budget, \"r\") as file: \n",
    "    csvreader=csv.reader(file, delimiter=\",\")\n",
    "    #Skip header in counting\n",
    "    head = next(csvreader)\n",
    "    #Give months the name \"counter\"\n",
    "    counter=0\n",
    "    #Total=sum of every month's value, start with 0 outside the for loop\n",
    "    total=0 \n",
    "    #Initial profit in January, defined outside the for loop to make the counts add up correctly\n",
    "    previousprofit=1088983\n",
    "    #Change in \"Profits/Losses (P/L)\" over entire period\n",
    "    totalchange=0 \n",
    "    #Greatest increase in P/L over entire period\n",
    "    greatestincrease=0\n",
    "    #Greatest decrease in P/L over entire period\n",
    "    greatestdecrease=0\n",
    "    monthofgreatestincrease=\"\"\n",
    "    monthofgreatestdecrease=\"\"\n",
    "    \n",
    "    for row in csvreader:\n",
    "        counter=counter+1\n",
    "        #Define current profit/loss in any given month and turn into integer\n",
    "        currentprofit=int(row[1])\n",
    "        \n",
    "        total=total+currentprofit\n",
    "        \n",
    "        monthlychange=currentprofit-previousprofit  \n",
    "        \n",
    "        previousprofit=currentprofit\n",
    "        \n",
    "        totalchange=totalchange+monthlychange\n",
    "        \n",
    "        if monthlychange>greatestincrease:\n",
    "            #then reset greatest increase to equal that value\n",
    "            greatestincrease=monthlychange \n",
    "            monthofgreatestincrease=row[0]  \n",
    "            \n",
    "        if monthlychange<greatestdecrease:\n",
    "            #then reset greatest decrease to equal that value\n",
    "            greatestdecrease=monthlychange\n",
    "            monthofgreatestdecrease=row[0]\n",
    "\n",
    "#Calculate average profit/loss change over entire period\n",
    "averagechange=totalchange/(counter-1)\n",
    "\n",
    "#f string to print output\n",
    "output=(\"Financial Analysis\\n\"\n",
    "        \"-----------------------\\n\"\n",
    "        f\"Total months: {counter}\\n\"\n",
    "        f\"Total: ${total:.2f}\\n\"\n",
    "        f\"Average Change: ${averagechange:.2f}\\n\"\n",
    "        f\"Greatest increase in profits:  {monthofgreatestincrease} (${greatestincrease:.2f})\\n\"\n",
    "        f\"Greatest decrease in profit: {monthofgreatestdecrease} (${greatestdecrease:.2f})\")\n",
    "print(output)\n",
    "\n",
    "outputfile=\"Analysis/outputfile.txt\"\n",
    "with open (outputfile, \"w\") as file: \n",
    "    file.write(output)"
   ]
  },
  {
   "cell_type": "code",
   "execution_count": null,
   "id": "b70f071b",
   "metadata": {},
   "outputs": [],
   "source": []
  }
 ],
 "metadata": {
  "kernelspec": {
   "display_name": "Python 3 (ipykernel)",
   "language": "python",
   "name": "python3"
  },
  "language_info": {
   "codemirror_mode": {
    "name": "ipython",
    "version": 3
   },
   "file_extension": ".py",
   "mimetype": "text/x-python",
   "name": "python",
   "nbconvert_exporter": "python",
   "pygments_lexer": "ipython3",
   "version": "3.9.13"
  }
 },
 "nbformat": 4,
 "nbformat_minor": 5
}
